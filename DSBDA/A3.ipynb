{
 "cells": [
  {
   "cell_type": "code",
   "execution_count": 78,
   "id": "2e9850fb-2bdb-422e-b9ee-0df44c615a6e",
   "metadata": {},
   "outputs": [],
   "source": [
    "import pandas as pd\n",
    "import numpy as np\n",
    "import statistics as st"
   ]
  },
  {
   "cell_type": "code",
   "execution_count": 79,
   "id": "e75f2f82-b376-4c3e-bc6d-b851b194955c",
   "metadata": {},
   "outputs": [],
   "source": [
    "data= pd.read_csv(\"iris.csv\")"
   ]
  },
  {
   "cell_type": "code",
   "execution_count": 80,
   "id": "29f4334d-d7c7-45de-8ed5-3cd5e1c876c7",
   "metadata": {},
   "outputs": [
    {
     "data": {
      "text/html": [
       "<div>\n",
       "<style scoped>\n",
       "    .dataframe tbody tr th:only-of-type {\n",
       "        vertical-align: middle;\n",
       "    }\n",
       "\n",
       "    .dataframe tbody tr th {\n",
       "        vertical-align: top;\n",
       "    }\n",
       "\n",
       "    .dataframe thead th {\n",
       "        text-align: right;\n",
       "    }\n",
       "</style>\n",
       "<table border=\"1\" class=\"dataframe\">\n",
       "  <thead>\n",
       "    <tr style=\"text-align: right;\">\n",
       "      <th></th>\n",
       "      <th>sepal_length</th>\n",
       "      <th>sepal_width</th>\n",
       "      <th>petal_length</th>\n",
       "      <th>petal_width</th>\n",
       "      <th>species</th>\n",
       "    </tr>\n",
       "  </thead>\n",
       "  <tbody>\n",
       "    <tr>\n",
       "      <th>0</th>\n",
       "      <td>5.1</td>\n",
       "      <td>3.5</td>\n",
       "      <td>1.4</td>\n",
       "      <td>0.2</td>\n",
       "      <td>Iris-setosa</td>\n",
       "    </tr>\n",
       "    <tr>\n",
       "      <th>1</th>\n",
       "      <td>4.9</td>\n",
       "      <td>3.0</td>\n",
       "      <td>1.4</td>\n",
       "      <td>0.2</td>\n",
       "      <td>Iris-setosa</td>\n",
       "    </tr>\n",
       "    <tr>\n",
       "      <th>2</th>\n",
       "      <td>4.7</td>\n",
       "      <td>3.2</td>\n",
       "      <td>1.3</td>\n",
       "      <td>0.2</td>\n",
       "      <td>Iris-setosa</td>\n",
       "    </tr>\n",
       "    <tr>\n",
       "      <th>3</th>\n",
       "      <td>4.6</td>\n",
       "      <td>3.1</td>\n",
       "      <td>1.5</td>\n",
       "      <td>0.2</td>\n",
       "      <td>Iris-setosa</td>\n",
       "    </tr>\n",
       "    <tr>\n",
       "      <th>4</th>\n",
       "      <td>5.0</td>\n",
       "      <td>3.6</td>\n",
       "      <td>1.4</td>\n",
       "      <td>0.2</td>\n",
       "      <td>Iris-setosa</td>\n",
       "    </tr>\n",
       "  </tbody>\n",
       "</table>\n",
       "</div>"
      ],
      "text/plain": [
       "   sepal_length  sepal_width  petal_length  petal_width      species\n",
       "0           5.1          3.5           1.4          0.2  Iris-setosa\n",
       "1           4.9          3.0           1.4          0.2  Iris-setosa\n",
       "2           4.7          3.2           1.3          0.2  Iris-setosa\n",
       "3           4.6          3.1           1.5          0.2  Iris-setosa\n",
       "4           5.0          3.6           1.4          0.2  Iris-setosa"
      ]
     },
     "execution_count": 80,
     "metadata": {},
     "output_type": "execute_result"
    }
   ],
   "source": [
    "data.head()"
   ]
  },
  {
   "cell_type": "code",
   "execution_count": 81,
   "id": "87aad326-da57-435a-947b-2dc230128918",
   "metadata": {},
   "outputs": [
    {
     "name": "stdout",
     "output_type": "stream",
     "text": [
      "<class 'pandas.core.frame.DataFrame'>\n",
      "RangeIndex: 150 entries, 0 to 149\n",
      "Data columns (total 5 columns):\n",
      " #   Column        Non-Null Count  Dtype  \n",
      "---  ------        --------------  -----  \n",
      " 0   sepal_length  150 non-null    float64\n",
      " 1   sepal_width   150 non-null    float64\n",
      " 2   petal_length  150 non-null    float64\n",
      " 3   petal_width   150 non-null    float64\n",
      " 4   species       150 non-null    object \n",
      "dtypes: float64(4), object(1)\n",
      "memory usage: 6.0+ KB\n"
     ]
    }
   ],
   "source": [
    "data.info()"
   ]
  },
  {
   "cell_type": "code",
   "execution_count": 82,
   "id": "01dcecce-67a3-4cf2-aafd-19ba4bf047fc",
   "metadata": {},
   "outputs": [
    {
     "data": {
      "text/plain": [
       "sepal_length    0\n",
       "sepal_width     0\n",
       "petal_length    0\n",
       "petal_width     0\n",
       "species         0\n",
       "dtype: int64"
      ]
     },
     "execution_count": 82,
     "metadata": {},
     "output_type": "execute_result"
    }
   ],
   "source": [
    "data.isnull().sum()"
   ]
  },
  {
   "cell_type": "code",
   "execution_count": 83,
   "id": "7b3ae44f-3b80-42ce-aa7c-1e9f47c6af30",
   "metadata": {},
   "outputs": [
    {
     "data": {
      "text/html": [
       "<div>\n",
       "<style scoped>\n",
       "    .dataframe tbody tr th:only-of-type {\n",
       "        vertical-align: middle;\n",
       "    }\n",
       "\n",
       "    .dataframe tbody tr th {\n",
       "        vertical-align: top;\n",
       "    }\n",
       "\n",
       "    .dataframe thead th {\n",
       "        text-align: right;\n",
       "    }\n",
       "</style>\n",
       "<table border=\"1\" class=\"dataframe\">\n",
       "  <thead>\n",
       "    <tr style=\"text-align: right;\">\n",
       "      <th></th>\n",
       "      <th>sepal_length</th>\n",
       "      <th>sepal_width</th>\n",
       "      <th>petal_length</th>\n",
       "      <th>petal_width</th>\n",
       "    </tr>\n",
       "  </thead>\n",
       "  <tbody>\n",
       "    <tr>\n",
       "      <th>count</th>\n",
       "      <td>150.000000</td>\n",
       "      <td>150.000000</td>\n",
       "      <td>150.000000</td>\n",
       "      <td>150.000000</td>\n",
       "    </tr>\n",
       "    <tr>\n",
       "      <th>mean</th>\n",
       "      <td>5.843333</td>\n",
       "      <td>3.054000</td>\n",
       "      <td>3.758667</td>\n",
       "      <td>1.198667</td>\n",
       "    </tr>\n",
       "    <tr>\n",
       "      <th>std</th>\n",
       "      <td>0.828066</td>\n",
       "      <td>0.433594</td>\n",
       "      <td>1.764420</td>\n",
       "      <td>0.763161</td>\n",
       "    </tr>\n",
       "    <tr>\n",
       "      <th>min</th>\n",
       "      <td>4.300000</td>\n",
       "      <td>2.000000</td>\n",
       "      <td>1.000000</td>\n",
       "      <td>0.100000</td>\n",
       "    </tr>\n",
       "    <tr>\n",
       "      <th>25%</th>\n",
       "      <td>5.100000</td>\n",
       "      <td>2.800000</td>\n",
       "      <td>1.600000</td>\n",
       "      <td>0.300000</td>\n",
       "    </tr>\n",
       "    <tr>\n",
       "      <th>50%</th>\n",
       "      <td>5.800000</td>\n",
       "      <td>3.000000</td>\n",
       "      <td>4.350000</td>\n",
       "      <td>1.300000</td>\n",
       "    </tr>\n",
       "    <tr>\n",
       "      <th>75%</th>\n",
       "      <td>6.400000</td>\n",
       "      <td>3.300000</td>\n",
       "      <td>5.100000</td>\n",
       "      <td>1.800000</td>\n",
       "    </tr>\n",
       "    <tr>\n",
       "      <th>max</th>\n",
       "      <td>7.900000</td>\n",
       "      <td>4.400000</td>\n",
       "      <td>6.900000</td>\n",
       "      <td>2.500000</td>\n",
       "    </tr>\n",
       "  </tbody>\n",
       "</table>\n",
       "</div>"
      ],
      "text/plain": [
       "       sepal_length  sepal_width  petal_length  petal_width\n",
       "count    150.000000   150.000000    150.000000   150.000000\n",
       "mean       5.843333     3.054000      3.758667     1.198667\n",
       "std        0.828066     0.433594      1.764420     0.763161\n",
       "min        4.300000     2.000000      1.000000     0.100000\n",
       "25%        5.100000     2.800000      1.600000     0.300000\n",
       "50%        5.800000     3.000000      4.350000     1.300000\n",
       "75%        6.400000     3.300000      5.100000     1.800000\n",
       "max        7.900000     4.400000      6.900000     2.500000"
      ]
     },
     "execution_count": 83,
     "metadata": {},
     "output_type": "execute_result"
    }
   ],
   "source": [
    "data.describe()"
   ]
  },
  {
   "cell_type": "code",
   "execution_count": 84,
   "id": "c69b211b-6beb-4ef9-860c-dd4224456f08",
   "metadata": {},
   "outputs": [
    {
     "name": "stdout",
     "output_type": "stream",
     "text": [
      "                 count   mean       std  min    25%  50%  75%  max\n",
      "species                                                           \n",
      "Iris-setosa       50.0  5.006  0.352490  4.3  4.800  5.0  5.2  5.8\n",
      "Iris-versicolor   50.0  5.936  0.516171  4.9  5.600  5.9  6.3  7.0\n",
      "Iris-virginica    50.0  6.588  0.635880  4.9  6.225  6.5  6.9  7.9\n"
     ]
    }
   ],
   "source": [
    "summary= data.groupby('species')['sepal_length'].describe()\n",
    "print(summary)"
   ]
  },
  {
   "cell_type": "code",
   "execution_count": 85,
   "id": "3c2ac4e1-9f90-4098-8290-0efef0055db9",
   "metadata": {},
   "outputs": [],
   "source": [
    "def custom_describe(x):\n",
    "    mode_value= st.mode(x)\n",
    "    median_value= np.median(x)\n",
    "    return pd.Series([x.count(), x.mean(), x.std(), mode_value, median_value, x.min(), x.max()], \n",
    "                       index=['count', 'mean', 'std', 'mode', 'median', 'min', 'max'])"
   ]
  },
  {
   "cell_type": "code",
   "execution_count": 86,
   "id": "0f52596f-f1e5-4c28-b086-7823499f5fbb",
   "metadata": {},
   "outputs": [
    {
     "name": "stdout",
     "output_type": "stream",
     "text": [
      "species                \n",
      "Iris-setosa      count     50.000000\n",
      "                 mean       5.006000\n",
      "                 std        0.352490\n",
      "                 mode       5.100000\n",
      "                 median     5.000000\n",
      "                 min        4.300000\n",
      "                 max        5.800000\n",
      "Iris-versicolor  count     50.000000\n",
      "                 mean       5.936000\n",
      "                 std        0.516171\n",
      "                 mode       5.500000\n",
      "                 median     5.900000\n",
      "                 min        4.900000\n",
      "                 max        7.000000\n",
      "Iris-virginica   count     50.000000\n",
      "                 mean       6.588000\n",
      "                 std        0.635880\n",
      "                 mode       6.300000\n",
      "                 median     6.500000\n",
      "                 min        4.900000\n",
      "                 max        7.900000\n",
      "Name: sepal_length, dtype: float64\n"
     ]
    }
   ],
   "source": [
    "summary_with_mode_median= data.groupby('species')['sepal_length'].apply(custom_describe)\n",
    "print(summary_with_mode_median)"
   ]
  },
  {
   "cell_type": "code",
   "execution_count": 87,
   "id": "2fca9fe1-c7b5-411b-be39-eb9aad4e9c4f",
   "metadata": {},
   "outputs": [
    {
     "name": "stdout",
     "output_type": "stream",
     "text": [
      "Mode= \n",
      " species\n",
      "Iris-setosa        5.1\n",
      "Iris-versicolor    5.5\n",
      "Iris-virginica     6.3\n",
      "Name: sepal_length, dtype: float64\n"
     ]
    }
   ],
   "source": [
    "mode_summary= data.groupby('species')['sepal_length'].apply(st.mode)\n",
    "print(\"Mode= \\n\", mode_summary)"
   ]
  },
  {
   "cell_type": "code",
   "execution_count": 88,
   "id": "ce8a654e-2a76-4467-a611-d9ee6667eb53",
   "metadata": {},
   "outputs": [
    {
     "name": "stdout",
     "output_type": "stream",
     "text": [
      "Median= \n",
      " species\n",
      "Iris-setosa        5.0\n",
      "Iris-versicolor    5.9\n",
      "Iris-virginica     6.5\n",
      "Name: sepal_length, dtype: float64\n"
     ]
    }
   ],
   "source": [
    "median_summary= data.groupby('species')['sepal_length'].apply(np.median)\n",
    "print(\"Median= \\n\", median_summary)"
   ]
  },
  {
   "cell_type": "code",
   "execution_count": 89,
   "id": "19ad9c2a-6e0e-48e2-874a-2114bbb6ac0a",
   "metadata": {},
   "outputs": [
    {
     "name": "stdout",
     "output_type": "stream",
     "text": [
      "                sepal_length                                              \\\n",
      "                       count   mean       std  min    25%  50%  75%  max   \n",
      "species                                                                    \n",
      "Iris-setosa             50.0  5.006  0.352490  4.3  4.800  5.0  5.2  5.8   \n",
      "Iris-versicolor         50.0  5.936  0.516171  4.9  5.600  5.9  6.3  7.0   \n",
      "Iris-virginica          50.0  6.588  0.635880  4.9  6.225  6.5  6.9  7.9   \n",
      "\n",
      "                sepal_width         ... petal_length      petal_width         \\\n",
      "                      count   mean  ...          75%  max       count   mean   \n",
      "species                             ...                                        \n",
      "Iris-setosa            50.0  3.418  ...        1.575  1.9        50.0  0.244   \n",
      "Iris-versicolor        50.0  2.770  ...        4.600  5.1        50.0  1.326   \n",
      "Iris-virginica         50.0  2.974  ...        5.875  6.9        50.0  2.026   \n",
      "\n",
      "                                                    \n",
      "                      std  min  25%  50%  75%  max  \n",
      "species                                             \n",
      "Iris-setosa      0.107210  0.1  0.2  0.2  0.3  0.6  \n",
      "Iris-versicolor  0.197753  1.0  1.2  1.3  1.5  1.8  \n",
      "Iris-virginica   0.274650  1.4  1.8  2.0  2.3  2.5  \n",
      "\n",
      "[3 rows x 32 columns]\n"
     ]
    }
   ],
   "source": [
    "species_stats= data.groupby('species').describe()\n",
    "print(species_stats)"
   ]
  },
  {
   "cell_type": "code",
   "execution_count": 61,
   "id": "b751c94d-ca7e-4eab-b637-38d43a280c1f",
   "metadata": {},
   "outputs": [
    {
     "name": "stdout",
     "output_type": "stream",
     "text": [
      "Setosa stats \n",
      "        sepal_length  sepal_width  petal_length  petal_width\n",
      "count      50.00000    50.000000     50.000000     50.00000\n",
      "mean        5.00600     3.418000      1.464000      0.24400\n",
      "std         0.35249     0.381024      0.173511      0.10721\n",
      "min         4.30000     2.300000      1.000000      0.10000\n",
      "25%         4.80000     3.125000      1.400000      0.20000\n",
      "50%         5.00000     3.400000      1.500000      0.20000\n",
      "75%         5.20000     3.675000      1.575000      0.30000\n",
      "max         5.80000     4.400000      1.900000      0.60000\n"
     ]
    }
   ],
   "source": [
    "setosa_stats= data[data['species']=='Iris-setosa'].describe()\n",
    "print(\"Setosa stats \\n\", setosa_stats)"
   ]
  },
  {
   "cell_type": "code",
   "execution_count": 62,
   "id": "6252c79c-7e50-4693-b537-e5e30db62467",
   "metadata": {},
   "outputs": [
    {
     "name": "stdout",
     "output_type": "stream",
     "text": [
      "Versicolor stats \n",
      "        sepal_length  sepal_width  petal_length  petal_width\n",
      "count     50.000000    50.000000     50.000000    50.000000\n",
      "mean       5.936000     2.770000      4.260000     1.326000\n",
      "std        0.516171     0.313798      0.469911     0.197753\n",
      "min        4.900000     2.000000      3.000000     1.000000\n",
      "25%        5.600000     2.525000      4.000000     1.200000\n",
      "50%        5.900000     2.800000      4.350000     1.300000\n",
      "75%        6.300000     3.000000      4.600000     1.500000\n",
      "max        7.000000     3.400000      5.100000     1.800000\n"
     ]
    }
   ],
   "source": [
    "versicolor_stats= data[data['species']=='Iris-versicolor'].describe()\n",
    "print(\"Versicolor stats \\n\", versicolor_stats)"
   ]
  },
  {
   "cell_type": "code",
   "execution_count": 63,
   "id": "c5452ecc-25dc-4348-bc66-5fa500530beb",
   "metadata": {},
   "outputs": [
    {
     "name": "stdout",
     "output_type": "stream",
     "text": [
      "Virginica stats \n",
      "        sepal_length  sepal_width  petal_length  petal_width\n",
      "count      50.00000    50.000000     50.000000     50.00000\n",
      "mean        6.58800     2.974000      5.552000      2.02600\n",
      "std         0.63588     0.322497      0.551895      0.27465\n",
      "min         4.90000     2.200000      4.500000      1.40000\n",
      "25%         6.22500     2.800000      5.100000      1.80000\n",
      "50%         6.50000     3.000000      5.550000      2.00000\n",
      "75%         6.90000     3.175000      5.875000      2.30000\n",
      "max         7.90000     3.800000      6.900000      2.50000\n"
     ]
    }
   ],
   "source": [
    "virginica_stats= data[data['species']=='Iris-virginica'].describe()\n",
    "print(\"Virginica stats \\n\", virginica_stats)"
   ]
  },
  {
   "cell_type": "code",
   "execution_count": null,
   "id": "1c3a83ac-1179-49b5-9126-a7b4bc6181a2",
   "metadata": {},
   "outputs": [],
   "source": []
  }
 ],
 "metadata": {
  "kernelspec": {
   "display_name": "Python 3 (ipykernel)",
   "language": "python",
   "name": "python3"
  },
  "language_info": {
   "codemirror_mode": {
    "name": "ipython",
    "version": 3
   },
   "file_extension": ".py",
   "mimetype": "text/x-python",
   "name": "python",
   "nbconvert_exporter": "python",
   "pygments_lexer": "ipython3",
   "version": "3.12.2"
  }
 },
 "nbformat": 4,
 "nbformat_minor": 5
}
