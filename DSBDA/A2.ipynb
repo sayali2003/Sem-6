{
 "cells": [
  {
   "cell_type": "code",
   "execution_count": 1,
   "id": "78a5ccc2-bc9c-4b3a-9fce-fc5c370d805a",
   "metadata": {},
   "outputs": [],
   "source": [
    "import matplotlib.pylab as plt\n",
    "import numpy as np\n",
    "import pandas as pd"
   ]
  },
  {
   "cell_type": "code",
   "execution_count": 2,
   "id": "04f33025-c0c9-425b-b3cb-1349aeca93ba",
   "metadata": {},
   "outputs": [],
   "source": [
    "data= pd.read_csv(\"data.csv\")"
   ]
  },
  {
   "cell_type": "code",
   "execution_count": 3,
   "id": "e6c59641-9fce-44e1-b753-c2ffbb5dd9e6",
   "metadata": {},
   "outputs": [
    {
     "data": {
      "text/html": [
       "<div>\n",
       "<style scoped>\n",
       "    .dataframe tbody tr th:only-of-type {\n",
       "        vertical-align: middle;\n",
       "    }\n",
       "\n",
       "    .dataframe tbody tr th {\n",
       "        vertical-align: top;\n",
       "    }\n",
       "\n",
       "    .dataframe thead th {\n",
       "        text-align: right;\n",
       "    }\n",
       "</style>\n",
       "<table border=\"1\" class=\"dataframe\">\n",
       "  <thead>\n",
       "    <tr style=\"text-align: right;\">\n",
       "      <th></th>\n",
       "      <th>1st</th>\n",
       "      <th>2nd</th>\n",
       "      <th>3rd</th>\n",
       "      <th>4th</th>\n",
       "      <th>5th</th>\n",
       "      <th>College Code</th>\n",
       "      <th>Gender</th>\n",
       "      <th>Roll</th>\n",
       "      <th>Roll no.</th>\n",
       "      <th>Subject Code</th>\n",
       "    </tr>\n",
       "  </thead>\n",
       "  <tbody>\n",
       "    <tr>\n",
       "      <th>0</th>\n",
       "      <td>8.11</td>\n",
       "      <td>7.68</td>\n",
       "      <td>7.11</td>\n",
       "      <td>7.43</td>\n",
       "      <td>8.18</td>\n",
       "      <td>115</td>\n",
       "      <td>Female</td>\n",
       "      <td>NaN</td>\n",
       "      <td>17020.0</td>\n",
       "      <td>16</td>\n",
       "    </tr>\n",
       "    <tr>\n",
       "      <th>1</th>\n",
       "      <td>6.48</td>\n",
       "      <td>5.90</td>\n",
       "      <td>4.15</td>\n",
       "      <td>4.29</td>\n",
       "      <td>4.96</td>\n",
       "      <td>115</td>\n",
       "      <td>Male</td>\n",
       "      <td>NaN</td>\n",
       "      <td>17021.0</td>\n",
       "      <td>16</td>\n",
       "    </tr>\n",
       "    <tr>\n",
       "      <th>2</th>\n",
       "      <td>8.41</td>\n",
       "      <td>8.24</td>\n",
       "      <td>7.52</td>\n",
       "      <td>8.25</td>\n",
       "      <td>7.75</td>\n",
       "      <td>115</td>\n",
       "      <td>Female</td>\n",
       "      <td>NaN</td>\n",
       "      <td>17022.0</td>\n",
       "      <td>16</td>\n",
       "    </tr>\n",
       "    <tr>\n",
       "      <th>3</th>\n",
       "      <td>7.33</td>\n",
       "      <td>6.83</td>\n",
       "      <td>6.33</td>\n",
       "      <td>6.79</td>\n",
       "      <td>6.89</td>\n",
       "      <td>115</td>\n",
       "      <td>Male</td>\n",
       "      <td>NaN</td>\n",
       "      <td>17023.0</td>\n",
       "      <td>16</td>\n",
       "    </tr>\n",
       "    <tr>\n",
       "      <th>4</th>\n",
       "      <td>7.89</td>\n",
       "      <td>7.34</td>\n",
       "      <td>7.22</td>\n",
       "      <td>7.32</td>\n",
       "      <td>7.46</td>\n",
       "      <td>115</td>\n",
       "      <td>Male</td>\n",
       "      <td>NaN</td>\n",
       "      <td>17024.0</td>\n",
       "      <td>16</td>\n",
       "    </tr>\n",
       "  </tbody>\n",
       "</table>\n",
       "</div>"
      ],
      "text/plain": [
       "    1st   2nd   3rd   4th   5th  College Code  Gender  Roll  Roll no.  \\\n",
       "0  8.11  7.68  7.11  7.43  8.18           115  Female   NaN   17020.0   \n",
       "1  6.48  5.90  4.15  4.29  4.96           115    Male   NaN   17021.0   \n",
       "2  8.41  8.24  7.52  8.25  7.75           115  Female   NaN   17022.0   \n",
       "3  7.33  6.83  6.33  6.79  6.89           115    Male   NaN   17023.0   \n",
       "4  7.89  7.34  7.22  7.32  7.46           115    Male   NaN   17024.0   \n",
       "\n",
       "   Subject Code  \n",
       "0            16  \n",
       "1            16  \n",
       "2            16  \n",
       "3            16  \n",
       "4            16  "
      ]
     },
     "execution_count": 3,
     "metadata": {},
     "output_type": "execute_result"
    }
   ],
   "source": [
    "data.head()"
   ]
  },
  {
   "cell_type": "code",
   "execution_count": 4,
   "id": "60407b8c-f1b4-4ffa-9a99-db763c00f7e6",
   "metadata": {},
   "outputs": [
    {
     "name": "stdout",
     "output_type": "stream",
     "text": [
      "      1st   2nd   3rd   4th   5th  College Code  Gender     Roll  Roll no.  \\\n",
      "0    8.11  7.68  7.11  7.43  8.18           115  Female      NaN   17020.0   \n",
      "1    6.48  5.90  4.15  4.29  4.96           115    Male      NaN   17021.0   \n",
      "2    8.41  8.24  7.52  8.25  7.75           115  Female      NaN   17022.0   \n",
      "3    7.33  6.83  6.33  6.79  6.89           115    Male      NaN   17023.0   \n",
      "4    7.89  7.34  7.22  7.32  7.46           115    Male      NaN   17024.0   \n",
      "..    ...   ...   ...   ...   ...           ...     ...      ...       ...   \n",
      "173  7.48  7.55  7.67  7.39  8.65           241       F  17048.0       NaN   \n",
      "174  7.30  6.41  6.59  7.11  7.38           241       M  17049.0       NaN   \n",
      "175  6.30  6.28  5.89  5.71  6.50           241       M  17050.0       NaN   \n",
      "176  7.04  7.10  6.81  7.00  6.92           241       M  17051.0       NaN   \n",
      "177  6.70  6.81  6.52  5.39  7.00           241       M  17052.0       NaN   \n",
      "\n",
      "     Subject Code  \n",
      "0              16  \n",
      "1              16  \n",
      "2              16  \n",
      "3              16  \n",
      "4              16  \n",
      "..            ...  \n",
      "173            28  \n",
      "174            28  \n",
      "175            28  \n",
      "176            28  \n",
      "177            28  \n",
      "\n",
      "[178 rows x 10 columns]\n"
     ]
    }
   ],
   "source": [
    "print(data)"
   ]
  },
  {
   "cell_type": "code",
   "execution_count": 5,
   "id": "59244bea-7552-4e13-b959-4e44ccae02c2",
   "metadata": {},
   "outputs": [
    {
     "data": {
      "text/html": [
       "<div>\n",
       "<style scoped>\n",
       "    .dataframe tbody tr th:only-of-type {\n",
       "        vertical-align: middle;\n",
       "    }\n",
       "\n",
       "    .dataframe tbody tr th {\n",
       "        vertical-align: top;\n",
       "    }\n",
       "\n",
       "    .dataframe thead th {\n",
       "        text-align: right;\n",
       "    }\n",
       "</style>\n",
       "<table border=\"1\" class=\"dataframe\">\n",
       "  <thead>\n",
       "    <tr style=\"text-align: right;\">\n",
       "      <th></th>\n",
       "      <th>1st</th>\n",
       "      <th>2nd</th>\n",
       "      <th>3rd</th>\n",
       "      <th>4th</th>\n",
       "      <th>5th</th>\n",
       "      <th>College Code</th>\n",
       "      <th>Roll</th>\n",
       "      <th>Roll no.</th>\n",
       "      <th>Subject Code</th>\n",
       "    </tr>\n",
       "  </thead>\n",
       "  <tbody>\n",
       "    <tr>\n",
       "      <th>count</th>\n",
       "      <td>176.000000</td>\n",
       "      <td>174.000000</td>\n",
       "      <td>176.00000</td>\n",
       "      <td>173.000000</td>\n",
       "      <td>172.000000</td>\n",
       "      <td>178.000000</td>\n",
       "      <td>132.000000</td>\n",
       "      <td>46.000000</td>\n",
       "      <td>178.000000</td>\n",
       "    </tr>\n",
       "    <tr>\n",
       "      <th>mean</th>\n",
       "      <td>7.038864</td>\n",
       "      <td>6.943391</td>\n",
       "      <td>6.62250</td>\n",
       "      <td>7.027746</td>\n",
       "      <td>7.432558</td>\n",
       "      <td>152.983146</td>\n",
       "      <td>17040.666667</td>\n",
       "      <td>17042.500000</td>\n",
       "      <td>18.359551</td>\n",
       "    </tr>\n",
       "    <tr>\n",
       "      <th>std</th>\n",
       "      <td>0.859521</td>\n",
       "      <td>0.881088</td>\n",
       "      <td>0.91926</td>\n",
       "      <td>1.035675</td>\n",
       "      <td>1.068866</td>\n",
       "      <td>48.357599</td>\n",
       "      <td>13.622874</td>\n",
       "      <td>13.422618</td>\n",
       "      <td>4.782849</td>\n",
       "    </tr>\n",
       "    <tr>\n",
       "      <th>min</th>\n",
       "      <td>3.850000</td>\n",
       "      <td>3.900000</td>\n",
       "      <td>3.96000</td>\n",
       "      <td>4.290000</td>\n",
       "      <td>4.000000</td>\n",
       "      <td>115.000000</td>\n",
       "      <td>17017.000000</td>\n",
       "      <td>17020.000000</td>\n",
       "      <td>16.000000</td>\n",
       "    </tr>\n",
       "    <tr>\n",
       "      <th>25%</th>\n",
       "      <td>6.440000</td>\n",
       "      <td>6.380000</td>\n",
       "      <td>6.14000</td>\n",
       "      <td>6.330000</td>\n",
       "      <td>6.750000</td>\n",
       "      <td>115.000000</td>\n",
       "      <td>17029.000000</td>\n",
       "      <td>17031.250000</td>\n",
       "      <td>16.000000</td>\n",
       "    </tr>\n",
       "    <tr>\n",
       "      <th>50%</th>\n",
       "      <td>7.070000</td>\n",
       "      <td>6.800000</td>\n",
       "      <td>6.68500</td>\n",
       "      <td>7.070000</td>\n",
       "      <td>7.590000</td>\n",
       "      <td>116.000000</td>\n",
       "      <td>17040.000000</td>\n",
       "      <td>17042.500000</td>\n",
       "      <td>16.000000</td>\n",
       "    </tr>\n",
       "    <tr>\n",
       "      <th>75%</th>\n",
       "      <td>7.590000</td>\n",
       "      <td>7.612500</td>\n",
       "      <td>7.26000</td>\n",
       "      <td>7.860000</td>\n",
       "      <td>8.210000</td>\n",
       "      <td>165.000000</td>\n",
       "      <td>17051.000000</td>\n",
       "      <td>17053.750000</td>\n",
       "      <td>16.000000</td>\n",
       "    </tr>\n",
       "    <tr>\n",
       "      <th>max</th>\n",
       "      <td>9.150000</td>\n",
       "      <td>9.210000</td>\n",
       "      <td>9.59000</td>\n",
       "      <td>9.310000</td>\n",
       "      <td>9.460000</td>\n",
       "      <td>241.000000</td>\n",
       "      <td>17067.000000</td>\n",
       "      <td>17065.000000</td>\n",
       "      <td>28.000000</td>\n",
       "    </tr>\n",
       "  </tbody>\n",
       "</table>\n",
       "</div>"
      ],
      "text/plain": [
       "              1st         2nd        3rd         4th         5th  \\\n",
       "count  176.000000  174.000000  176.00000  173.000000  172.000000   \n",
       "mean     7.038864    6.943391    6.62250    7.027746    7.432558   \n",
       "std      0.859521    0.881088    0.91926    1.035675    1.068866   \n",
       "min      3.850000    3.900000    3.96000    4.290000    4.000000   \n",
       "25%      6.440000    6.380000    6.14000    6.330000    6.750000   \n",
       "50%      7.070000    6.800000    6.68500    7.070000    7.590000   \n",
       "75%      7.590000    7.612500    7.26000    7.860000    8.210000   \n",
       "max      9.150000    9.210000    9.59000    9.310000    9.460000   \n",
       "\n",
       "       College Code          Roll      Roll no.  Subject Code  \n",
       "count    178.000000    132.000000     46.000000    178.000000  \n",
       "mean     152.983146  17040.666667  17042.500000     18.359551  \n",
       "std       48.357599     13.622874     13.422618      4.782849  \n",
       "min      115.000000  17017.000000  17020.000000     16.000000  \n",
       "25%      115.000000  17029.000000  17031.250000     16.000000  \n",
       "50%      116.000000  17040.000000  17042.500000     16.000000  \n",
       "75%      165.000000  17051.000000  17053.750000     16.000000  \n",
       "max      241.000000  17067.000000  17065.000000     28.000000  "
      ]
     },
     "execution_count": 5,
     "metadata": {},
     "output_type": "execute_result"
    }
   ],
   "source": [
    "data.describe()"
   ]
  },
  {
   "cell_type": "code",
   "execution_count": 6,
   "id": "5eb2a8e7-e38d-4382-b9aa-0d58f2e783c9",
   "metadata": {},
   "outputs": [
    {
     "data": {
      "text/plain": [
       "1st               2\n",
       "2nd               4\n",
       "3rd               2\n",
       "4th               5\n",
       "5th               6\n",
       "College Code      0\n",
       "Gender            1\n",
       "Roll             46\n",
       "Roll no.        132\n",
       "Subject Code      0\n",
       "dtype: int64"
      ]
     },
     "execution_count": 6,
     "metadata": {},
     "output_type": "execute_result"
    }
   ],
   "source": [
    "data.isnull().sum()"
   ]
  },
  {
   "cell_type": "code",
   "execution_count": 7,
   "id": "eb944983-0752-4c2e-9fde-1da22a166ec1",
   "metadata": {},
   "outputs": [],
   "source": [
    "avg_1st_Marks= data[\"1st\"].astype(\"float64\").mean(axis=0)\n",
    "avg_2nd_Marks= data[\"2nd\"].astype(\"float64\").mean(axis=0)\n",
    "avg_3rd_Marks= data[\"3rd\"].astype(\"float64\").mean(axis=0)\n",
    "avg_4th_Marks= data[\"4th\"].astype(\"float64\").mean(axis=0)\n",
    "avg_5th_Marks= data[\"5th\"].astype(\"float64\").mean(axis=0)"
   ]
  },
  {
   "cell_type": "code",
   "execution_count": 8,
   "id": "af361568-004c-4e1d-8ea3-3cdf5f588242",
   "metadata": {},
   "outputs": [
    {
     "name": "stdout",
     "output_type": "stream",
     "text": [
      "Average marks of first paper:  7.038863636363637\n",
      "Average marks of second paper:  6.943390804597701\n",
      "Average marks of third paper:  6.6225\n",
      "Average marks of fourth paper:  7.027745664739886\n",
      "Average marks of fifth paper:  7.432558139534884\n"
     ]
    }
   ],
   "source": [
    "print(\"Average marks of first paper: \", avg_1st_Marks)\n",
    "print(\"Average marks of second paper: \", avg_2nd_Marks)\n",
    "print(\"Average marks of third paper: \", avg_3rd_Marks)\n",
    "print(\"Average marks of fourth paper: \", avg_4th_Marks)\n",
    "print(\"Average marks of fifth paper: \", avg_5th_Marks)"
   ]
  },
  {
   "cell_type": "code",
   "execution_count": 10,
   "id": "de8d9a4b-f1ab-4b39-9832-a8f769c0c226",
   "metadata": {},
   "outputs": [],
   "source": [
    "data.loc[data[\"1st\"].isnull(), \"1st\"] = avg_1st_Marks\n",
    "data.loc[data[\"2nd\"].isnull(), \"2nd\"] = avg_2nd_Marks\n",
    "data.loc[data[\"3rd\"].isnull(), \"3rd\"] = avg_3rd_Marks\n",
    "data.loc[data[\"4th\"].isnull(), \"4th\"] = avg_4th_Marks\n",
    "data.loc[data[\"5th\"].isnull(), \"5th\"] = avg_5th_Marks"
   ]
  },
  {
   "cell_type": "code",
   "execution_count": 11,
   "id": "37879dd1-6efe-4276-bb45-f1354150d4a4",
   "metadata": {},
   "outputs": [
    {
     "data": {
      "text/plain": [
       "1st               0\n",
       "2nd               0\n",
       "3rd               0\n",
       "4th               0\n",
       "5th               0\n",
       "College Code      0\n",
       "Gender            1\n",
       "Roll             46\n",
       "Roll no.        132\n",
       "Subject Code      0\n",
       "dtype: int64"
      ]
     },
     "execution_count": 11,
     "metadata": {},
     "output_type": "execute_result"
    }
   ],
   "source": [
    "data.isnull().sum()"
   ]
  },
  {
   "cell_type": "code",
   "execution_count": 12,
   "id": "82018705-e6ae-4d38-bccb-0782374fa0cd",
   "metadata": {},
   "outputs": [],
   "source": [
    "max_1st= data[\"1st\"].max()\n",
    "max_2nd= data[\"2nd\"].max()\n",
    "max_3rd= data[\"3rd\"].max()\n",
    "max_4th= data[\"4th\"].max()\n",
    "max_5th= data[\"5th\"].max()"
   ]
  },
  {
   "cell_type": "code",
   "execution_count": 14,
   "id": "70bf5ffe-7d12-4c77-abba-7b6e4bea6a50",
   "metadata": {},
   "outputs": [
    {
     "name": "stdout",
     "output_type": "stream",
     "text": [
      "9.15 9.21 9.59 9.31 9.46\n"
     ]
    }
   ],
   "source": [
    "print(max_1st, max_2nd, max_3rd, max_4th, max_5th)"
   ]
  },
  {
   "cell_type": "code",
   "execution_count": 15,
   "id": "68ab76e3-1443-4eff-a873-231d4a6000df",
   "metadata": {},
   "outputs": [],
   "source": [
    "cgpa_columns= [\"1st\", \"2nd\", \"3rd\", \"4th\", \"5th\"]\n",
    "max_values= [max_1st, max_2nd, max_3rd, max_4th, max_5th]"
   ]
  },
  {
   "cell_type": "code",
   "execution_count": 16,
   "id": "faef330c-35f2-4a52-a269-f4970f1db019",
   "metadata": {},
   "outputs": [],
   "source": [
    "for col, max_value in zip(cgpa_columns, max_values):\n",
    "    data[col+ '_Percentage']= (data[col] / max_value) *100"
   ]
  },
  {
   "cell_type": "code",
   "execution_count": 17,
   "id": "0838b6b5-89c1-4ecb-a13d-1064998ceca4",
   "metadata": {},
   "outputs": [
    {
     "name": "stdout",
     "output_type": "stream",
     "text": [
      "      1st   2nd   3rd   4th   5th  College Code  Gender     Roll  Roll no.  \\\n",
      "0    8.11  7.68  7.11  7.43  8.18           115  Female      NaN   17020.0   \n",
      "1    6.48  5.90  4.15  4.29  4.96           115    Male      NaN   17021.0   \n",
      "2    8.41  8.24  7.52  8.25  7.75           115  Female      NaN   17022.0   \n",
      "3    7.33  6.83  6.33  6.79  6.89           115    Male      NaN   17023.0   \n",
      "4    7.89  7.34  7.22  7.32  7.46           115    Male      NaN   17024.0   \n",
      "..    ...   ...   ...   ...   ...           ...     ...      ...       ...   \n",
      "173  7.48  7.55  7.67  7.39  8.65           241       F  17048.0       NaN   \n",
      "174  7.30  6.41  6.59  7.11  7.38           241       M  17049.0       NaN   \n",
      "175  6.30  6.28  5.89  5.71  6.50           241       M  17050.0       NaN   \n",
      "176  7.04  7.10  6.81  7.00  6.92           241       M  17051.0       NaN   \n",
      "177  6.70  6.81  6.52  5.39  7.00           241       M  17052.0       NaN   \n",
      "\n",
      "     Subject Code  1st_Percentage  2nd_Percentage  3rd_Percentage  \\\n",
      "0              16       88.633880       83.387622       74.139729   \n",
      "1              16       70.819672       64.060803       43.274244   \n",
      "2              16       91.912568       89.467970       78.415016   \n",
      "3              16       80.109290       74.158523       66.006257   \n",
      "4              16       86.229508       79.695983       75.286757   \n",
      "..            ...             ...             ...             ...   \n",
      "173            28       81.748634       81.976113       79.979145   \n",
      "174            28       79.781421       69.598263       68.717414   \n",
      "175            28       68.852459       68.186754       61.418144   \n",
      "176            28       76.939891       77.090119       71.011470   \n",
      "177            28       73.224044       73.941368       67.987487   \n",
      "\n",
      "     4th_Percentage  5th_Percentage  \n",
      "0         79.806660       86.469345  \n",
      "1         46.079484       52.431290  \n",
      "2         88.614393       81.923890  \n",
      "3         72.932331       72.832981  \n",
      "4         78.625134       78.858351  \n",
      "..              ...             ...  \n",
      "173       79.377014       91.437632  \n",
      "174       76.369495       78.012685  \n",
      "175       61.331901       68.710359  \n",
      "176       75.187970       73.150106  \n",
      "177       57.894737       73.995772  \n",
      "\n",
      "[178 rows x 15 columns]\n"
     ]
    }
   ],
   "source": [
    "print(data)"
   ]
  },
  {
   "cell_type": "code",
   "execution_count": null,
   "id": "b072fd29-cd59-49fd-bd19-76e1db883dd4",
   "metadata": {},
   "outputs": [],
   "source": []
  }
 ],
 "metadata": {
  "kernelspec": {
   "display_name": "Python 3 (ipykernel)",
   "language": "python",
   "name": "python3"
  },
  "language_info": {
   "codemirror_mode": {
    "name": "ipython",
    "version": 3
   },
   "file_extension": ".py",
   "mimetype": "text/x-python",
   "name": "python",
   "nbconvert_exporter": "python",
   "pygments_lexer": "ipython3",
   "version": "3.12.2"
  }
 },
 "nbformat": 4,
 "nbformat_minor": 5
}
